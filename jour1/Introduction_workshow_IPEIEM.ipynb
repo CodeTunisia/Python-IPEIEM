{
  "nbformat": 4,
  "nbformat_minor": 0,
  "metadata": {
    "colab": {
      "provenance": []
    },
    "kernelspec": {
      "name": "python3",
      "display_name": "Python 3"
    },
    "language_info": {
      "name": "python"
    }
  },
  "cells": [
    {
      "cell_type": "code",
      "execution_count": null,
      "metadata": {
        "colab": {
          "base_uri": "https://localhost:8080/"
        },
        "id": "MzUcX7l7Yo-m",
        "outputId": "fa624d0c-662f-4e59-ff12-26c4d71cb0e6"
      },
      "outputs": [
        {
          "output_type": "stream",
          "name": "stdout",
          "text": [
            "Hello World!\n"
          ]
        }
      ],
      "source": [
        "print(\"Hello World!\")"
      ]
    },
    {
      "cell_type": "markdown",
      "source": [
        "# Un démo pour une leçon numérique\n",
        "Blabla....\n",
        "\n",
        "Blabla. Un **text** en gras ou *text* en italique.  \n",
        "# Un titre Niveau 1\n",
        "## Un titre niveau 2\n",
        "### Un titre niveau 3\n",
        "Je peux écrire une formule mathématique en ligne $E = m c^2$ ou bien mettre en évidence la formule $$E = mc^2$$\n",
        "bien sûr on peutégallement introduire des symboles $E_\\alpha$ ou bien \n",
        "\n",
        "![](https://encrypted-tbn0.gstatic.com/images?q=tbn:ANd9GcQ2kc9bB0PTQqLX9wfLG1Nru4hAqt-n_74hMykLmwz3f_z8Sg398zB6JdG9Y2ZSd0jQX-s&usqp=CAU)\n",
        "\n",
        "\n"
      ],
      "metadata": {
        "id": "1Pnyu07vaHX3"
      }
    },
    {
      "cell_type": "code",
      "source": [
        "from math import pi\n",
        "print(pi)"
      ],
      "metadata": {
        "id": "r4s_VFyKaScI",
        "colab": {
          "base_uri": "https://localhost:8080/"
        },
        "outputId": "4599ca07-29de-4460-a024-aeaca6938c51"
      },
      "execution_count": null,
      "outputs": [
        {
          "output_type": "stream",
          "name": "stdout",
          "text": [
            "3.141592653589793\n"
          ]
        }
      ]
    },
    {
      "cell_type": "code",
      "source": [
        "def Leibiniz(N):\n",
        "    S = 0\n",
        "    for k in range(0, N):\n",
        "        S += (-1)**k / (2*k+1)\n",
        "    S =  S*4\n",
        "    return (S)\n",
        "\n"
      ],
      "metadata": {
        "id": "-EhgR5dfg8Y9"
      },
      "execution_count": null,
      "outputs": []
    },
    {
      "cell_type": "code",
      "source": [
        "for n  in range(200, 800, 100):\n",
        "    print(Leibiniz(n))\n"
      ],
      "metadata": {
        "colab": {
          "base_uri": "https://localhost:8080/"
        },
        "id": "34hRPStWjKeV",
        "outputId": "615d4210-f233-4976-adf9-d801ce8e89b7"
      },
      "execution_count": null,
      "outputs": [
        {
          "output_type": "stream",
          "name": "stdout",
          "text": [
            "3.136592684838816\n",
            "3.1382593295155914\n",
            "3.1390926574960143\n",
            "3.139592655589785\n",
            "3.139925988080531\n",
            "3.1401640828900845\n"
          ]
        }
      ]
    },
    {
      "cell_type": "code",
      "source": [
        "PiL = Leibiniz(1000)"
      ],
      "metadata": {
        "id": "T7dp56ZkjL7_"
      },
      "execution_count": null,
      "outputs": []
    },
    {
      "cell_type": "code",
      "source": [
        "print(PiL/2)"
      ],
      "metadata": {
        "colab": {
          "base_uri": "https://localhost:8080/"
        },
        "id": "zW7p0FBsqSkE",
        "outputId": "a59a57af-1a8f-4166-be51-d6d2edc1c2c7"
      },
      "execution_count": null,
      "outputs": [
        {
          "output_type": "stream",
          "name": "stdout",
          "text": [
            "1.570296326919897\n"
          ]
        }
      ]
    },
    {
      "cell_type": "code",
      "source": [
        "print(pi - PiL)"
      ],
      "metadata": {
        "colab": {
          "base_uri": "https://localhost:8080/"
        },
        "id": "FAheTuWjsbVA",
        "outputId": "9e6ac599-8515-4ecc-e9e3-258b01498632"
      },
      "execution_count": null,
      "outputs": [
        {
          "output_type": "stream",
          "name": "stdout",
          "text": [
            "0.000999999749998981\n"
          ]
        }
      ]
    },
    {
      "cell_type": "code",
      "source": [
        "def Wallis(N):\n",
        "    P = 1\n",
        "    for k in range(1, N):\n",
        "        P*= (2*k)**2/((2*k)**2 -1)\n",
        "    return 2*P\n"
      ],
      "metadata": {
        "id": "tS238rclvaNp"
      },
      "execution_count": null,
      "outputs": []
    },
    {
      "cell_type": "code",
      "source": [
        "PiW = Wallis(1000)"
      ],
      "metadata": {
        "id": "fQqapjfsv2LX"
      },
      "execution_count": null,
      "outputs": []
    },
    {
      "cell_type": "code",
      "source": [
        "print(PiW)"
      ],
      "metadata": {
        "colab": {
          "base_uri": "https://localhost:8080/"
        },
        "id": "j9eOXgA2v8ur",
        "outputId": "808432bb-6438-4655-c0b0-93a1700df200"
      },
      "execution_count": null,
      "outputs": [
        {
          "output_type": "stream",
          "name": "stdout",
          "text": [
            "3.1408069608284657\n"
          ]
        }
      ]
    },
    {
      "cell_type": "code",
      "source": [
        "print(\"Avec Leibiniz = \", pi - PiL)\n",
        "print(\"Avec Wallis = \", pi - PiW)"
      ],
      "metadata": {
        "colab": {
          "base_uri": "https://localhost:8080/"
        },
        "id": "5oVI-aoSwEkN",
        "outputId": "3b8b0c6b-281b-4ba9-f80d-fb90d76c9df6"
      },
      "execution_count": null,
      "outputs": [
        {
          "output_type": "stream",
          "name": "stdout",
          "text": [
            "Avec Leibiniz =  0.000999999749998981\n",
            "Avec Wallis =  0.00078569276132745\n"
          ]
        }
      ]
    },
    {
      "cell_type": "code",
      "source": [
        "Liste_N = []\n",
        "Liste_N.append(3)\n",
        "print(Liste_N)"
      ],
      "metadata": {
        "colab": {
          "base_uri": "https://localhost:8080/"
        },
        "id": "uHdRvOiSwXPT",
        "outputId": "beca6438-aaaa-42bb-e736-6ac8a75d12f7"
      },
      "execution_count": null,
      "outputs": [
        {
          "output_type": "stream",
          "name": "stdout",
          "text": [
            "[3]\n"
          ]
        }
      ]
    },
    {
      "cell_type": "code",
      "source": [
        "Liste_N.append(True)\n",
        "print(Liste_N)"
      ],
      "metadata": {
        "colab": {
          "base_uri": "https://localhost:8080/"
        },
        "id": "TmS-2CJx1am5",
        "outputId": "52c08ba4-bc0f-419e-c940-06118dd92681"
      },
      "execution_count": null,
      "outputs": [
        {
          "output_type": "stream",
          "name": "stdout",
          "text": [
            "[3, True]\n"
          ]
        }
      ]
    },
    {
      "cell_type": "code",
      "source": [
        "TableauN = []\n",
        "for n in range(1, 1000):\n",
        "    TableauN.append(n)\n"
      ],
      "metadata": {
        "id": "80Pg_8i12N1D"
      },
      "execution_count": null,
      "outputs": []
    },
    {
      "cell_type": "code",
      "source": [
        "TableauL, TableauW = [], []\n",
        "for n in TableauN:\n",
        "    TableauL.append(Leibiniz(n))\n",
        "    TableauW.append(Wallis(n))\n",
        "\n"
      ],
      "metadata": {
        "id": "YqKLF0zH3A0j"
      },
      "execution_count": null,
      "outputs": []
    },
    {
      "cell_type": "code",
      "source": [],
      "metadata": {
        "id": "SwjY8XdI2ukv"
      },
      "execution_count": null,
      "outputs": []
    },
    {
      "cell_type": "code",
      "source": [
        "import matplotlib.pyplot as plt \n",
        "plt.plot(TableauN, TableauW, color = \"r\", lw=3, ls = \"-\", label = \"Walis\")\n",
        "plt.plot(TableauN, TableauL, color = \"b\", lw=3, ls = \"-\", label = \"Leibiniz\")\n",
        "plt.legend()\n",
        "plt.xlim(0, 50)\n",
        "plt.show()"
      ],
      "metadata": {
        "colab": {
          "base_uri": "https://localhost:8080/",
          "height": 265
        },
        "id": "VoMRjMQ72xZL",
        "outputId": "74ccac84-2ece-4c1c-9640-92743a284949"
      },
      "execution_count": null,
      "outputs": [
        {
          "output_type": "display_data",
          "data": {
            "text/plain": [
              "<Figure size 432x288 with 1 Axes>"
            ],
            "image/png": "[encoded data removed]"
          },
          "metadata": {
            "needs_background": "light"
          }
        }
      ]
    },
    {
      "cell_type": "code",
      "source": [
        "import numpy as np\n",
        "V = np.array([1, 2, 3])\n",
        "M = np.array([[1,2,3], [4,5,6]])"
      ],
      "metadata": {
        "id": "MjgtJgyyfC1y"
      },
      "execution_count": null,
      "outputs": []
    },
    {
      "cell_type": "code",
      "source": [
        "M.shape\n",
        "print(M.transpose())"
      ],
      "metadata": {
        "colab": {
          "base_uri": "https://localhost:8080/"
        },
        "id": "03Biuyo0frUU",
        "outputId": "789e3baf-e473-4070-b980-a85cf438414a"
      },
      "execution_count": null,
      "outputs": [
        {
          "output_type": "stream",
          "name": "stdout",
          "text": [
            "[[1 4]\n",
            " [2 5]\n",
            " [3 6]]\n"
          ]
        }
      ]
    },
    {
      "cell_type": "code",
      "source": [
        "Vn = np.arange(1, 50, 1)\n",
        "print(Vn)"
      ],
      "metadata": {
        "colab": {
          "base_uri": "https://localhost:8080/"
        },
        "id": "EwPxJtzIftVl",
        "outputId": "92bf41f9-9963-4c78-bbb3-8ee1b8556984"
      },
      "execution_count": null,
      "outputs": [
        {
          "output_type": "stream",
          "name": "stdout",
          "text": [
            "[ 1  2  3  4  5  6  7  8  9 10 11 12 13 14 15 16 17 18 19 20 21 22 23 24\n",
            " 25 26 27 28 29 30 31 32 33 34 35 36 37 38 39 40 41 42 43 44 45 46 47 48\n",
            " 49]\n"
          ]
        }
      ]
    },
    {
      "cell_type": "code",
      "source": [
        "# vecteur avec meme dimension que Vn\n",
        "Mpi = np.zeros((2, len(Vn)))\n",
        "for k in range(len(Vn)):\n",
        "    Mpi[:,k] = np.array([Leibiniz(Vn[k]), Wallis(Vn[k])])\n",
        "plt.plot(Vn, Mpi[0], label = \"Leibiniz\", marker = \"o\")\n",
        "plt.plot(Vn, Mpi[1], label = \"Wallis\", marker =\"o\")\n",
        "plt.legend()\n",
        "plt.xlabel(\"n\")\n",
        "plt.ylabel(\"W(n)/L(n)\")\n",
        "plt.savefig(\"pi.png\", dpi =200)\n",
        "plt.show()"
      ],
      "metadata": {
        "colab": {
          "base_uri": "https://localhost:8080/",
          "height": 279
        },
        "id": "ApX_peWjh6uY",
        "outputId": "0c196d93-6714-4f4b-b920-81817bda3b92"
      },
      "execution_count": null,
      "outputs": [
        {
          "output_type": "display_data",
          "data": {
            "text/plain": [
              "<Figure size 432x288 with 1 Axes>"
            ],
            "image/png": "[encoded data removed]"
          },
          "metadata": {
            "needs_background": "light"
          }
        }
      ]
    },
    {
      "cell_type": "code",
      "source": [],
      "metadata": {
        "id": "v9PRfAKFjBxu"
      },
      "execution_count": null,
      "outputs": []
    }
  ]
}